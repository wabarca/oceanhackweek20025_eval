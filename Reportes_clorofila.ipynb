{
 "cells": [
  {
   "cell_type": "markdown",
   "id": "d8697b7b",
   "metadata": {},
   "source": [
    "**Informe de Clorofila en Región Costera**"
   ]
  },
  {
   "cell_type": "markdown",
   "id": "1e6f3c1a",
   "metadata": {},
   "source": [
    "Ahora generamos un informe en formato html con las observaciones y pronóstico de clorofila para una región costera de interes utilizando datos satelitales y modelos oceanográficos. Para ello empleamos la libreria `papermill`:"
   ]
  },
  {
   "cell_type": "code",
   "execution_count": null,
   "id": "dbe5fa68",
   "metadata": {},
   "outputs": [],
   "source": [
    "import papermill as pm"
   ]
  },
  {
   "cell_type": "markdown",
   "id": "c3048887",
   "metadata": {},
   "source": [
    "**Primera región: El Salvador**\n",
    "Definimos la región de interés frente a las costas de El Salvador, asignamos un nombre para el informe."
   ]
  },
  {
   "cell_type": "code",
   "execution_count": null,
   "id": "70e6c9fe",
   "metadata": {},
   "outputs": [],
   "source": [
    "region = 'El_Salvador'\n",
    "min_lon=-92\n",
    "max_lon=-87\n",
    "min_lat=10\n",
    "max_lat=15"
   ]
  },
  {
   "cell_type": "markdown",
   "id": "d10dba29",
   "metadata": {},
   "source": [
    "Se genera el informe correspondiente."
   ]
  },
  {
   "cell_type": "code",
   "execution_count": null,
   "id": "dad15854",
   "metadata": {},
   "outputs": [],
   "source": [
    "pm.execute_notebook('template_clorofila.ipynb'\n",
    "        , 'monitoreo_' + region + '.ipynb'\n",
    "        , parameters=dict(nombre_region=region,min))"
   ]
  },
  {
   "cell_type": "markdown",
   "id": "8f7193e5",
   "metadata": {},
   "source": [
    "Así podemos extender la generación de informes a otras regiones de interés."
   ]
  }
 ],
 "metadata": {
  "kernelspec": {
   "display_name": "oceanhackweek",
   "language": "python",
   "name": "python3"
  },
  "language_info": {
   "name": "python",
   "version": "3.14.0"
  }
 },
 "nbformat": 4,
 "nbformat_minor": 5
}
